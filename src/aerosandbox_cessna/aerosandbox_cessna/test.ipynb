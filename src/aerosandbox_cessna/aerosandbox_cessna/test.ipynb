{
 "cells": [
  {
   "cell_type": "code",
   "execution_count": 1,
   "metadata": {},
   "outputs": [
    {
     "name": "stderr",
     "output_type": "stream",
     "text": [
      "Running XFoil to generate polars for Airfoil 'naca2412'::   0%|          | 0/12 [00:00<?, ?it/s]"
     ]
    },
    {
     "ename": "FileNotFoundError",
     "evalue": "[Errno 2] No such file or directory: 'xfoil airfoil.dat'",
     "output_type": "error",
     "traceback": [
      "\u001b[0;31m---------------------------------------------------------------------------\u001b[0m",
      "\u001b[0;31mFileNotFoundError\u001b[0m                         Traceback (most recent call last)",
      "Cell \u001b[0;32mIn[1], line 4\u001b[0m\n\u001b[1;32m      2\u001b[0m \u001b[39mimport\u001b[39;00m \u001b[39maerosandbox\u001b[39;00m\u001b[39m.\u001b[39;00m\u001b[39mnumpy\u001b[39;00m \u001b[39mas\u001b[39;00m \u001b[39mnp\u001b[39;00m\n\u001b[1;32m      3\u001b[0m \u001b[39mfrom\u001b[39;00m \u001b[39maerosandbox\u001b[39;00m\u001b[39m.\u001b[39;00m\u001b[39mtools\u001b[39;00m \u001b[39mimport\u001b[39;00m units \u001b[39mas\u001b[39;00m u\n\u001b[0;32m----> 4\u001b[0m \u001b[39mfrom\u001b[39;00m \u001b[39mcessna152\u001b[39;00m \u001b[39mimport\u001b[39;00m airplane\n\u001b[1;32m      5\u001b[0m \u001b[39mimport\u001b[39;00m \u001b[39mos\u001b[39;00m\n\u001b[1;32m      7\u001b[0m \u001b[39mprint\u001b[39m (os\u001b[39m.\u001b[39mgetcwd())\n",
      "File \u001b[0;32m~/dev/aerosandbox/src/aerosandbox/aerosandbox/cessna152.py:13\u001b[0m\n\u001b[1;32m     11\u001b[0m naca2412 \u001b[39m=\u001b[39m asb\u001b[39m.\u001b[39mAirfoil(\u001b[39m\"\u001b[39m\u001b[39mnaca2412\u001b[39m\u001b[39m\"\u001b[39m)\n\u001b[1;32m     12\u001b[0m naca0012 \u001b[39m=\u001b[39m asb\u001b[39m.\u001b[39mAirfoil(\u001b[39m\"\u001b[39m\u001b[39mnaca0012\u001b[39m\u001b[39m\"\u001b[39m)\n\u001b[0;32m---> 13\u001b[0m naca2412\u001b[39m.\u001b[39;49mgenerate_polars(cache_filename\u001b[39m=\u001b[39;49m\u001b[39m'\u001b[39;49m\u001b[39msrc/aerosandbox/resource/naca2412.json\u001b[39;49m\u001b[39m'\u001b[39;49m)\n\u001b[1;32m     14\u001b[0m naca0012\u001b[39m.\u001b[39mgenerate_polars(cache_filename\u001b[39m=\u001b[39m\u001b[39m\"\u001b[39m\u001b[39msrc/aerosandbox/resource/naca0012.json\u001b[39m\u001b[39m\"\u001b[39m)\n\u001b[1;32m     16\u001b[0m airplane \u001b[39m=\u001b[39m asb\u001b[39m.\u001b[39mAirplane(\n\u001b[1;32m     17\u001b[0m     name\u001b[39m=\u001b[39m\u001b[39m\"\u001b[39m\u001b[39mCessna 152\u001b[39m\u001b[39m\"\u001b[39m,\n\u001b[1;32m     18\u001b[0m     wings\u001b[39m=\u001b[39m[\n\u001b[0;32m   (...)\u001b[0m\n\u001b[1;32m    116\u001b[0m     ]\n\u001b[1;32m    117\u001b[0m )\n",
      "File \u001b[0;32m/Library/Python/3.9/site-packages/aerosandbox/geometry/airfoil/airfoil.py:298\u001b[0m, in \u001b[0;36mAirfoil.generate_polars\u001b[0;34m(self, alphas, Res, cache_filename, xfoil_kwargs, unstructured_interpolated_model_kwargs, include_compressibility_effects, transonic_buffet_lift_knockdown, make_symmetric_polars)\u001b[0m\n\u001b[1;32m    294\u001b[0m     \u001b[39mreturn\u001b[39;00m run_data  \u001b[39m# Data is a dict where keys are figures of merit [str] and values are 1D ndarrays.\u001b[39;00m\n\u001b[1;32m    296\u001b[0m \u001b[39mfrom\u001b[39;00m \u001b[39mtqdm\u001b[39;00m \u001b[39mimport\u001b[39;00m tqdm\n\u001b[0;32m--> 298\u001b[0m run_datas \u001b[39m=\u001b[39m [  \u001b[39m# Get a list of dicts, where each dict is the result of an XFoil run at a particular Re.\u001b[39;00m\n\u001b[1;32m    299\u001b[0m     get_run_data(Re)\n\u001b[1;32m    300\u001b[0m     \u001b[39mfor\u001b[39;00m Re \u001b[39min\u001b[39;00m tqdm(\n\u001b[1;32m    301\u001b[0m         Res,\n\u001b[1;32m    302\u001b[0m         desc\u001b[39m=\u001b[39m\u001b[39mf\u001b[39m\u001b[39m\"\u001b[39m\u001b[39mRunning XFoil to generate polars for Airfoil \u001b[39m\u001b[39m'\u001b[39m\u001b[39m{\u001b[39;00m\u001b[39mself\u001b[39m\u001b[39m.\u001b[39mname\u001b[39m}\u001b[39;00m\u001b[39m'\u001b[39m\u001b[39m:\u001b[39m\u001b[39m\"\u001b[39m,\n\u001b[1;32m    303\u001b[0m     )\n\u001b[1;32m    304\u001b[0m ]\n\u001b[1;32m    305\u001b[0m data \u001b[39m=\u001b[39m {  \u001b[39m# Merge the dicts into one big database of all runs.\u001b[39;00m\n\u001b[1;32m    306\u001b[0m     k: np\u001b[39m.\u001b[39mconcatenate(\n\u001b[1;32m    307\u001b[0m         \u001b[39mtuple\u001b[39m([run_data[k] \u001b[39mfor\u001b[39;00m run_data \u001b[39min\u001b[39;00m run_datas])\n\u001b[1;32m    308\u001b[0m     )\n\u001b[1;32m    309\u001b[0m     \u001b[39mfor\u001b[39;00m k \u001b[39min\u001b[39;00m run_datas[\u001b[39m0\u001b[39m]\u001b[39m.\u001b[39mkeys()\n\u001b[1;32m    310\u001b[0m }\n\u001b[1;32m    312\u001b[0m \u001b[39mif\u001b[39;00m make_symmetric_polars:  \u001b[39m# If the airfoil is known to be symmetric, duplicate all data across alpha.\u001b[39;00m\n",
      "File \u001b[0;32m/Library/Python/3.9/site-packages/aerosandbox/geometry/airfoil/airfoil.py:299\u001b[0m, in \u001b[0;36m<listcomp>\u001b[0;34m(.0)\u001b[0m\n\u001b[1;32m    294\u001b[0m     \u001b[39mreturn\u001b[39;00m run_data  \u001b[39m# Data is a dict where keys are figures of merit [str] and values are 1D ndarrays.\u001b[39;00m\n\u001b[1;32m    296\u001b[0m \u001b[39mfrom\u001b[39;00m \u001b[39mtqdm\u001b[39;00m \u001b[39mimport\u001b[39;00m tqdm\n\u001b[1;32m    298\u001b[0m run_datas \u001b[39m=\u001b[39m [  \u001b[39m# Get a list of dicts, where each dict is the result of an XFoil run at a particular Re.\u001b[39;00m\n\u001b[0;32m--> 299\u001b[0m     get_run_data(Re)\n\u001b[1;32m    300\u001b[0m     \u001b[39mfor\u001b[39;00m Re \u001b[39min\u001b[39;00m tqdm(\n\u001b[1;32m    301\u001b[0m         Res,\n\u001b[1;32m    302\u001b[0m         desc\u001b[39m=\u001b[39m\u001b[39mf\u001b[39m\u001b[39m\"\u001b[39m\u001b[39mRunning XFoil to generate polars for Airfoil \u001b[39m\u001b[39m'\u001b[39m\u001b[39m{\u001b[39;00m\u001b[39mself\u001b[39m\u001b[39m.\u001b[39mname\u001b[39m}\u001b[39;00m\u001b[39m'\u001b[39m\u001b[39m:\u001b[39m\u001b[39m\"\u001b[39m,\n\u001b[1;32m    303\u001b[0m     )\n\u001b[1;32m    304\u001b[0m ]\n\u001b[1;32m    305\u001b[0m data \u001b[39m=\u001b[39m {  \u001b[39m# Merge the dicts into one big database of all runs.\u001b[39;00m\n\u001b[1;32m    306\u001b[0m     k: np\u001b[39m.\u001b[39mconcatenate(\n\u001b[1;32m    307\u001b[0m         \u001b[39mtuple\u001b[39m([run_data[k] \u001b[39mfor\u001b[39;00m run_data \u001b[39min\u001b[39;00m run_datas])\n\u001b[1;32m    308\u001b[0m     )\n\u001b[1;32m    309\u001b[0m     \u001b[39mfor\u001b[39;00m k \u001b[39min\u001b[39;00m run_datas[\u001b[39m0\u001b[39m]\u001b[39m.\u001b[39mkeys()\n\u001b[1;32m    310\u001b[0m }\n\u001b[1;32m    312\u001b[0m \u001b[39mif\u001b[39;00m make_symmetric_polars:  \u001b[39m# If the airfoil is known to be symmetric, duplicate all data across alpha.\u001b[39;00m\n",
      "File \u001b[0;32m/Library/Python/3.9/site-packages/aerosandbox/geometry/airfoil/airfoil.py:288\u001b[0m, in \u001b[0;36mAirfoil.generate_polars.<locals>.get_run_data\u001b[0;34m(Re)\u001b[0m\n\u001b[1;32m    287\u001b[0m \u001b[39mdef\u001b[39;00m \u001b[39mget_run_data\u001b[39m(Re):  \u001b[39m# Get the data for an XFoil alpha sweep at one specific Re.\u001b[39;00m\n\u001b[0;32m--> 288\u001b[0m     run_data \u001b[39m=\u001b[39m XFoil(\n\u001b[1;32m    289\u001b[0m         airfoil\u001b[39m=\u001b[39;49m\u001b[39mself\u001b[39;49m,\n\u001b[1;32m    290\u001b[0m         Re\u001b[39m=\u001b[39;49mRe,\n\u001b[1;32m    291\u001b[0m         \u001b[39m*\u001b[39;49m\u001b[39m*\u001b[39;49mxfoil_kwargs\n\u001b[1;32m    292\u001b[0m     )\u001b[39m.\u001b[39;49malpha(alphas)\n\u001b[1;32m    293\u001b[0m     run_data[\u001b[39m\"\u001b[39m\u001b[39mRe\u001b[39m\u001b[39m\"\u001b[39m] \u001b[39m=\u001b[39m Re \u001b[39m*\u001b[39m np\u001b[39m.\u001b[39mones_like(run_data[\u001b[39m\"\u001b[39m\u001b[39malpha\u001b[39m\u001b[39m\"\u001b[39m])\n\u001b[1;32m    294\u001b[0m     \u001b[39mreturn\u001b[39;00m run_data\n",
      "File \u001b[0;32m/Library/Python/3.9/site-packages/aerosandbox/aerodynamics/aero_2D/xfoil.py:428\u001b[0m, in \u001b[0;36mXFoil.alpha\u001b[0;34m(self, alpha, start_at)\u001b[0m\n\u001b[1;32m    425\u001b[0m alphas_upper \u001b[39m=\u001b[39m alphas[alphas \u001b[39m>\u001b[39m start_at]\n\u001b[1;32m    426\u001b[0m alphas_lower \u001b[39m=\u001b[39m alphas[alpha \u001b[39m<\u001b[39m\u001b[39m=\u001b[39m start_at][::\u001b[39m-\u001b[39m\u001b[39m1\u001b[39m]\n\u001b[0;32m--> 428\u001b[0m output \u001b[39m=\u001b[39m \u001b[39mself\u001b[39;49m\u001b[39m.\u001b[39;49m_run_xfoil(\n\u001b[1;32m    429\u001b[0m     \u001b[39m\"\u001b[39;49m\u001b[39m\\n\u001b[39;49;00m\u001b[39m\"\u001b[39;49m\u001b[39m.\u001b[39;49mjoin(\n\u001b[1;32m    430\u001b[0m         [\n\u001b[1;32m    431\u001b[0m             \u001b[39mf\u001b[39;49m\u001b[39m\"\u001b[39;49m\u001b[39ma \u001b[39;49m\u001b[39m{\u001b[39;49;00ma\u001b[39m}\u001b[39;49;00m\u001b[39m\"\u001b[39;49m \u001b[39m+\u001b[39;49m (\u001b[39m\"\u001b[39;49m\u001b[39m\\n\u001b[39;49;00m\u001b[39mfmom\u001b[39;49m\u001b[39m\"\u001b[39;49m \u001b[39mif\u001b[39;49;00m \u001b[39mself\u001b[39;49m\u001b[39m.\u001b[39;49mhinge_point_x \u001b[39mis\u001b[39;49;00m \u001b[39mnot\u001b[39;49;00m \u001b[39mNone\u001b[39;49;00m \u001b[39melse\u001b[39;49;00m \u001b[39m\"\u001b[39;49m\u001b[39m\"\u001b[39;49m)\n\u001b[1;32m    432\u001b[0m             \u001b[39mfor\u001b[39;49;00m a \u001b[39min\u001b[39;49;00m alphas_upper\n\u001b[1;32m    433\u001b[0m         ] \u001b[39m+\u001b[39;49m [\n\u001b[1;32m    434\u001b[0m             \u001b[39m\"\u001b[39;49m\u001b[39minit\u001b[39;49m\u001b[39m\"\u001b[39;49m\n\u001b[1;32m    435\u001b[0m         ] \u001b[39m+\u001b[39;49m [\n\u001b[1;32m    436\u001b[0m             \u001b[39mf\u001b[39;49m\u001b[39m\"\u001b[39;49m\u001b[39ma \u001b[39;49m\u001b[39m{\u001b[39;49;00ma\u001b[39m}\u001b[39;49;00m\u001b[39m\"\u001b[39;49m \u001b[39m+\u001b[39;49m (\u001b[39m\"\u001b[39;49m\u001b[39m\\n\u001b[39;49;00m\u001b[39mfmom\u001b[39;49m\u001b[39m\"\u001b[39;49m \u001b[39mif\u001b[39;49;00m \u001b[39mself\u001b[39;49m\u001b[39m.\u001b[39;49mhinge_point_x \u001b[39mis\u001b[39;49;00m \u001b[39mnot\u001b[39;49;00m \u001b[39mNone\u001b[39;49;00m \u001b[39melse\u001b[39;49;00m \u001b[39m\"\u001b[39;49m\u001b[39m\"\u001b[39;49m)\n\u001b[1;32m    437\u001b[0m             \u001b[39mfor\u001b[39;49;00m a \u001b[39min\u001b[39;49;00m alphas_lower\n\u001b[1;32m    438\u001b[0m         ]\n\u001b[1;32m    439\u001b[0m     )\n\u001b[1;32m    440\u001b[0m )\n\u001b[1;32m    442\u001b[0m sort_order \u001b[39m=\u001b[39m np\u001b[39m.\u001b[39margsort(output[\u001b[39m'\u001b[39m\u001b[39malpha\u001b[39m\u001b[39m'\u001b[39m])\n\u001b[1;32m    443\u001b[0m output \u001b[39m=\u001b[39m {\n\u001b[1;32m    444\u001b[0m     k: v[sort_order]\n\u001b[1;32m    445\u001b[0m     \u001b[39mfor\u001b[39;00m k, v \u001b[39min\u001b[39;00m output\u001b[39m.\u001b[39mitems()\n\u001b[1;32m    446\u001b[0m }\n",
      "File \u001b[0;32m/Library/Python/3.9/site-packages/aerosandbox/aerodynamics/aero_2D/xfoil.py:265\u001b[0m, in \u001b[0;36mXFoil._run_xfoil\u001b[0;34m(self, run_command)\u001b[0m\n\u001b[1;32m    263\u001b[0m \u001b[39mtry\u001b[39;00m:\n\u001b[1;32m    264\u001b[0m     command \u001b[39m=\u001b[39m \u001b[39mf\u001b[39m\u001b[39m'\u001b[39m\u001b[39m{\u001b[39;00m\u001b[39mself\u001b[39m\u001b[39m.\u001b[39mxfoil_command\u001b[39m}\u001b[39;00m\u001b[39m \u001b[39m\u001b[39m{\u001b[39;00mairfoil_file\u001b[39m}\u001b[39;00m\u001b[39m'\u001b[39m\n\u001b[0;32m--> 265\u001b[0m     proc \u001b[39m=\u001b[39m subprocess\u001b[39m.\u001b[39;49mPopen(\n\u001b[1;32m    266\u001b[0m         command,\n\u001b[1;32m    267\u001b[0m         cwd\u001b[39m=\u001b[39;49mdirectory,\n\u001b[1;32m    268\u001b[0m         stdin\u001b[39m=\u001b[39;49msubprocess\u001b[39m.\u001b[39;49mPIPE,\n\u001b[1;32m    269\u001b[0m         stdout\u001b[39m=\u001b[39;49m\u001b[39mNone\u001b[39;49;00m \u001b[39mif\u001b[39;49;00m \u001b[39mself\u001b[39;49m\u001b[39m.\u001b[39;49mverbose \u001b[39melse\u001b[39;49;00m subprocess\u001b[39m.\u001b[39;49mDEVNULL,\n\u001b[1;32m    270\u001b[0m         stderr\u001b[39m=\u001b[39;49m\u001b[39mNone\u001b[39;49;00m \u001b[39mif\u001b[39;49;00m \u001b[39mself\u001b[39;49m\u001b[39m.\u001b[39;49mverbose \u001b[39melse\u001b[39;49;00m subprocess\u001b[39m.\u001b[39;49mDEVNULL,\n\u001b[1;32m    271\u001b[0m         text\u001b[39m=\u001b[39;49m\u001b[39mTrue\u001b[39;49;00m,\n\u001b[1;32m    272\u001b[0m         \u001b[39m# shell=True,\u001b[39;49;00m\n\u001b[1;32m    273\u001b[0m         \u001b[39m# timeout=self.timeout,\u001b[39;49;00m\n\u001b[1;32m    274\u001b[0m         \u001b[39m# check=True\u001b[39;49;00m\n\u001b[1;32m    275\u001b[0m     )\n\u001b[1;32m    276\u001b[0m     outs, errs \u001b[39m=\u001b[39m proc\u001b[39m.\u001b[39mcommunicate(\n\u001b[1;32m    277\u001b[0m         \u001b[39minput\u001b[39m\u001b[39m=\u001b[39m\u001b[39m\"\u001b[39m\u001b[39m\\n\u001b[39;00m\u001b[39m\"\u001b[39m\u001b[39m.\u001b[39mjoin(keystrokes),\n\u001b[1;32m    278\u001b[0m         timeout\u001b[39m=\u001b[39m\u001b[39mself\u001b[39m\u001b[39m.\u001b[39mtimeout\n\u001b[1;32m    279\u001b[0m     )\n\u001b[1;32m    280\u001b[0m     return_code \u001b[39m=\u001b[39m proc\u001b[39m.\u001b[39mpoll()\n",
      "File \u001b[0;32m/Library/Developer/CommandLineTools/Library/Frameworks/Python3.framework/Versions/3.9/lib/python3.9/subprocess.py:951\u001b[0m, in \u001b[0;36mPopen.__init__\u001b[0;34m(self, args, bufsize, executable, stdin, stdout, stderr, preexec_fn, close_fds, shell, cwd, env, universal_newlines, startupinfo, creationflags, restore_signals, start_new_session, pass_fds, user, group, extra_groups, encoding, errors, text, umask)\u001b[0m\n\u001b[1;32m    947\u001b[0m         \u001b[39mif\u001b[39;00m \u001b[39mself\u001b[39m\u001b[39m.\u001b[39mtext_mode:\n\u001b[1;32m    948\u001b[0m             \u001b[39mself\u001b[39m\u001b[39m.\u001b[39mstderr \u001b[39m=\u001b[39m io\u001b[39m.\u001b[39mTextIOWrapper(\u001b[39mself\u001b[39m\u001b[39m.\u001b[39mstderr,\n\u001b[1;32m    949\u001b[0m                     encoding\u001b[39m=\u001b[39mencoding, errors\u001b[39m=\u001b[39merrors)\n\u001b[0;32m--> 951\u001b[0m     \u001b[39mself\u001b[39;49m\u001b[39m.\u001b[39;49m_execute_child(args, executable, preexec_fn, close_fds,\n\u001b[1;32m    952\u001b[0m                         pass_fds, cwd, env,\n\u001b[1;32m    953\u001b[0m                         startupinfo, creationflags, shell,\n\u001b[1;32m    954\u001b[0m                         p2cread, p2cwrite,\n\u001b[1;32m    955\u001b[0m                         c2pread, c2pwrite,\n\u001b[1;32m    956\u001b[0m                         errread, errwrite,\n\u001b[1;32m    957\u001b[0m                         restore_signals,\n\u001b[1;32m    958\u001b[0m                         gid, gids, uid, umask,\n\u001b[1;32m    959\u001b[0m                         start_new_session)\n\u001b[1;32m    960\u001b[0m \u001b[39mexcept\u001b[39;00m:\n\u001b[1;32m    961\u001b[0m     \u001b[39m# Cleanup if the child failed starting.\u001b[39;00m\n\u001b[1;32m    962\u001b[0m     \u001b[39mfor\u001b[39;00m f \u001b[39min\u001b[39;00m \u001b[39mfilter\u001b[39m(\u001b[39mNone\u001b[39;00m, (\u001b[39mself\u001b[39m\u001b[39m.\u001b[39mstdin, \u001b[39mself\u001b[39m\u001b[39m.\u001b[39mstdout, \u001b[39mself\u001b[39m\u001b[39m.\u001b[39mstderr)):\n",
      "File \u001b[0;32m/Library/Developer/CommandLineTools/Library/Frameworks/Python3.framework/Versions/3.9/lib/python3.9/subprocess.py:1821\u001b[0m, in \u001b[0;36mPopen._execute_child\u001b[0;34m(self, args, executable, preexec_fn, close_fds, pass_fds, cwd, env, startupinfo, creationflags, shell, p2cread, p2cwrite, c2pread, c2pwrite, errread, errwrite, restore_signals, gid, gids, uid, umask, start_new_session)\u001b[0m\n\u001b[1;32m   1819\u001b[0m     \u001b[39mif\u001b[39;00m errno_num \u001b[39m!=\u001b[39m \u001b[39m0\u001b[39m:\n\u001b[1;32m   1820\u001b[0m         err_msg \u001b[39m=\u001b[39m os\u001b[39m.\u001b[39mstrerror(errno_num)\n\u001b[0;32m-> 1821\u001b[0m     \u001b[39mraise\u001b[39;00m child_exception_type(errno_num, err_msg, err_filename)\n\u001b[1;32m   1822\u001b[0m \u001b[39mraise\u001b[39;00m child_exception_type(err_msg)\n",
      "\u001b[0;31mFileNotFoundError\u001b[0m: [Errno 2] No such file or directory: 'xfoil airfoil.dat'"
     ]
    }
   ],
   "source": [
    "import aerosandbox as asb\n",
    "import aerosandbox.numpy as np\n",
    "from aerosandbox.tools import units as u\n",
    "from cessna152 import airplane\n",
    "import os\n",
    "\n",
    "print (os.getcwd())\n",
    "from aerosandbox.weights.mass_properties_of_shapes import mass_properties_from_radius_of_gyration\n",
    "\n",
    "mass_props = mass_properties_from_radius_of_gyration(\n",
    "    mass=1151.8 * u.lbm,\n",
    "    radius_of_gyration_x=2,\n",
    "    radius_of_gyration_y=3,\n",
    "    radius_of_gyration_z=3,\n",
    ")\n",
    "mass_props.x_cg = 1\n",
    "\n",
    "### Initialize the problem\n",
    "opti = asb.Opti()\n",
    "\n",
    "### Define time. Note that the horizon length is unknown.\n",
    "time_final_guess = 100\n",
    "time = np.linspace(\n",
    "    0,\n",
    "    opti.variable(init_guess=time_final_guess, log_transform=True),\n",
    "    250\n",
    ")\n",
    "N = np.length(time)\n",
    "\n",
    "time_guess = np.linspace(0, time_final_guess, N)\n",
    "\n",
    "### Create a dynamics instance\n",
    "init_state = {\n",
    "    \"x_e\"  : 0,\n",
    "    \"z_e\"  : -1000,  # 1 km altitude\n",
    "    \"speed\": 107 * u.knot,\n",
    "    \"gamma\": 0,\n",
    "}\n",
    "\n",
    "dyn = asb.DynamicsPointMass2DSpeedGamma(\n",
    "    mass_props=mass_props,\n",
    "    x_e=opti.variable(init_state[\"speed\"] * time_guess),\n",
    "    z_e=opti.variable(np.linspace(init_state[\"z_e\"], 0, N)),\n",
    "    speed=opti.variable(init_guess=init_state[\"speed\"], n_vars=N),\n",
    "    gamma=opti.variable(init_guess=0, n_vars=N, lower_bound=-np.pi / 2, upper_bound=np.pi / 2),\n",
    "    alpha=opti.variable(init_guess=5, n_vars=N, lower_bound=-5, upper_bound=15),\n",
    ")\n",
    "# Constrain the initial state\n",
    "for k in dyn.state.keys():\n",
    "    opti.subject_to(\n",
    "        dyn.state[k][0] == init_state[k]\n",
    "    )\n",
    "\n",
    "### Add in forces\n",
    "dyn.add_gravity_force(g=9.81)\n",
    "\n",
    "aero = asb.AeroBuildup(\n",
    "    airplane=airplane,\n",
    "    op_point=dyn.op_point\n",
    ").run()\n",
    "\n",
    "dyn.add_force(\n",
    "    *aero[\"F_w\"],\n",
    "    axes=\"wind\"\n",
    ")\n",
    "\n",
    "### Constrain the altitude to be above ground at all times\n",
    "opti.subject_to(\n",
    "    dyn.altitude > 0\n",
    ")\n",
    "\n",
    "### Finalize the problem\n",
    "dyn.constrain_derivatives(opti, time)  # Apply the dynamics constraints created up to this point\n",
    "\n",
    "opti.minimize(-dyn.x_e[-1])  # Go as far downrange as you can\n",
    "\n",
    "### Solve it\n",
    "sol = opti.solve()\n",
    "\n",
    "### Substitute the optimization variables in the dynamics instance with their solved values (in-place)\n",
    "dyn.substitute_solution(sol)\n",
    "\n",
    "# NBVAL_SKIP\n",
    "\n",
    "plotter = dyn.draw(\n",
    "    vehicle_model=airplane,\n",
    "    show=False\n",
    ")\n",
    "plotter.show(jupyter_backend=\"static\")"
   ]
  },
  {
   "cell_type": "code",
   "execution_count": 1,
   "metadata": {},
   "outputs": [
    {
     "name": "stdout",
     "output_type": "stream",
     "text": [
      "/workspaces/aerosandbox/src/aerosandbox/aerosandbox\n"
     ]
    }
   ],
   "source": [
    "import os\n",
    "\n",
    "print (os.getcwd())"
   ]
  }
 ],
 "metadata": {
  "kernelspec": {
   "display_name": "Python 3",
   "language": "python",
   "name": "python3"
  },
  "language_info": {
   "codemirror_mode": {
    "name": "ipython",
    "version": 3
   },
   "file_extension": ".py",
   "mimetype": "text/x-python",
   "name": "python",
   "nbconvert_exporter": "python",
   "pygments_lexer": "ipython3",
   "version": "3.10.6"
  },
  "orig_nbformat": 4
 },
 "nbformat": 4,
 "nbformat_minor": 2
}
